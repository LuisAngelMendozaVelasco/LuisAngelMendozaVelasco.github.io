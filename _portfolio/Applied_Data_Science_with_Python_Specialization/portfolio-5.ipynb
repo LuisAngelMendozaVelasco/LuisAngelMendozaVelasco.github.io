{
 "cells": [
  {
   "cell_type": "markdown",
   "metadata": {},
   "source": [
    "# Spam detection"
   ]
  },
  {
   "cell_type": "markdown",
   "metadata": {},
   "source": [
    "<a target=\"_blank\" href=\"https://colab.research.google.com/github/LuisAngelMendozaVelasco/luisangelmendozavelasco.github.io/blob/master/_portfolio/Applied_Data_Science_with_Python_Specialization/portfolio-5.ipynb\"><img src=\"https://www.tensorflow.org/images/colab_logo_32px.png\" />Run in Google Colab</a>"
   ]
  },
  {
   "cell_type": "markdown",
   "metadata": {},
   "source": [
    "**Objective**: Explore the [SMS Spam Collection](https://archive.ics.uci.edu/dataset/228/sms+spam+collection) and create models to predict if a message is spam or not."
   ]
  },
  {
   "cell_type": "markdown",
   "metadata": {},
   "source": [
    "## Import libraries"
   ]
  },
  {
   "cell_type": "code",
   "execution_count": 1,
   "metadata": {},
   "outputs": [],
   "source": [
    "import pandas as pd\n",
    "import numpy as np\n",
    "import matplotlib.pyplot as plt\n",
    "from sklearn.model_selection import train_test_split\n",
    "from sklearn.feature_extraction.text import CountVectorizer, TfidfVectorizer\n",
    "from sklearn.naive_bayes import MultinomialNB\n",
    "from sklearn.metrics import roc_auc_score, ConfusionMatrixDisplay, classification_report\n",
    "from sklearn.svm import SVC\n",
    "from scipy.sparse import csr_matrix, hstack\n",
    "from sklearn.linear_model import LogisticRegression"
   ]
  },
  {
   "cell_type": "markdown",
   "metadata": {},
   "source": [
    "## Load the data"
   ]
  },
  {
   "cell_type": "code",
   "execution_count": 2,
   "metadata": {},
   "outputs": [
    {
     "data": {
      "text/html": [
       "<div>\n",
       "<style scoped>\n",
       "    .dataframe tbody tr th:only-of-type {\n",
       "        vertical-align: middle;\n",
       "    }\n",
       "\n",
       "    .dataframe tbody tr th {\n",
       "        vertical-align: top;\n",
       "    }\n",
       "\n",
       "    .dataframe thead th {\n",
       "        text-align: right;\n",
       "    }\n",
       "</style>\n",
       "<table border=\"1\" class=\"dataframe\">\n",
       "  <thead>\n",
       "    <tr style=\"text-align: right;\">\n",
       "      <th></th>\n",
       "      <th>text</th>\n",
       "      <th>target</th>\n",
       "    </tr>\n",
       "  </thead>\n",
       "  <tbody>\n",
       "    <tr>\n",
       "      <th>0</th>\n",
       "      <td>Go until jurong point, crazy.. Available only ...</td>\n",
       "      <td>0</td>\n",
       "    </tr>\n",
       "    <tr>\n",
       "      <th>1</th>\n",
       "      <td>Ok lar... Joking wif u oni...</td>\n",
       "      <td>0</td>\n",
       "    </tr>\n",
       "    <tr>\n",
       "      <th>2</th>\n",
       "      <td>Free entry in 2 a wkly comp to win FA Cup fina...</td>\n",
       "      <td>1</td>\n",
       "    </tr>\n",
       "    <tr>\n",
       "      <th>3</th>\n",
       "      <td>U dun say so early hor... U c already then say...</td>\n",
       "      <td>0</td>\n",
       "    </tr>\n",
       "    <tr>\n",
       "      <th>4</th>\n",
       "      <td>Nah I don't think he goes to usf, he lives aro...</td>\n",
       "      <td>0</td>\n",
       "    </tr>\n",
       "    <tr>\n",
       "      <th>...</th>\n",
       "      <td>...</td>\n",
       "      <td>...</td>\n",
       "    </tr>\n",
       "    <tr>\n",
       "      <th>5567</th>\n",
       "      <td>This is the 2nd time we have tried 2 contact u...</td>\n",
       "      <td>1</td>\n",
       "    </tr>\n",
       "    <tr>\n",
       "      <th>5568</th>\n",
       "      <td>Will Ì_ b going to esplanade fr home?</td>\n",
       "      <td>0</td>\n",
       "    </tr>\n",
       "    <tr>\n",
       "      <th>5569</th>\n",
       "      <td>Pity, * was in mood for that. So...any other s...</td>\n",
       "      <td>0</td>\n",
       "    </tr>\n",
       "    <tr>\n",
       "      <th>5570</th>\n",
       "      <td>The guy did some bitching but I acted like i'd...</td>\n",
       "      <td>0</td>\n",
       "    </tr>\n",
       "    <tr>\n",
       "      <th>5571</th>\n",
       "      <td>Rofl. Its true to its name</td>\n",
       "      <td>0</td>\n",
       "    </tr>\n",
       "  </tbody>\n",
       "</table>\n",
       "<p>5572 rows × 2 columns</p>\n",
       "</div>"
      ],
      "text/plain": [
       "                                                   text  target\n",
       "0     Go until jurong point, crazy.. Available only ...       0\n",
       "1                         Ok lar... Joking wif u oni...       0\n",
       "2     Free entry in 2 a wkly comp to win FA Cup fina...       1\n",
       "3     U dun say so early hor... U c already then say...       0\n",
       "4     Nah I don't think he goes to usf, he lives aro...       0\n",
       "...                                                 ...     ...\n",
       "5567  This is the 2nd time we have tried 2 contact u...       1\n",
       "5568              Will Ì_ b going to esplanade fr home?       0\n",
       "5569  Pity, * was in mood for that. So...any other s...       0\n",
       "5570  The guy did some bitching but I acted like i'd...       0\n",
       "5571                         Rofl. Its true to its name       0\n",
       "\n",
       "[5572 rows x 2 columns]"
      ]
     },
     "execution_count": 2,
     "metadata": {},
     "output_type": "execute_result"
    }
   ],
   "source": [
    "df_spam_data = pd.read_csv('https://raw.githubusercontent.com/LuisAngelMendozaVelasco/Applied_Data_Science_with_Python_Specialization/main/Applied_Text_Mining_in_Python/Week3/Labs/data/spam.csv')\n",
    "df_spam_data['target'] = np.where(df_spam_data['target'] == 'spam', 1, 0)\n",
    "df_spam_data"
   ]
  },
  {
   "cell_type": "markdown",
   "metadata": {},
   "source": [
    "## Visualize the class distribution"
   ]
  },
  {
   "cell_type": "code",
   "execution_count": 3,
   "metadata": {},
   "outputs": [
    {
     "data": {
      "image/png": "[encoded data removed]",
      "text/plain": [
       "<Figure size 640x480 with 1 Axes>"
      ]
     },
     "metadata": {},
     "output_type": "display_data"
    }
   ],
   "source": [
    "spam = df_spam_data[\"target\"].sum()\n",
    "not_spam = len(df_spam_data) - spam\n",
    "labels = [\"Not spam\", \"Spam\"]\n",
    "sizes = [not_spam, spam]\n",
    "\n",
    "fig, ax = plt.subplots()\n",
    "ax.pie(sizes, textprops={'fontsize': '12', 'color': 'w'}, autopct=lambda pct: \"{:.2f}%\\n({:d})\".format(pct, round(pct/100 * sum(sizes))))\n",
    "ax.legend(labels)\n",
    "plt.show()"
   ]
  },
  {
   "cell_type": "markdown",
   "metadata": {},
   "source": [
    "## Split the data into training and test sets"
   ]
  },
  {
   "cell_type": "code",
   "execution_count": 4,
   "metadata": {},
   "outputs": [],
   "source": [
    "X = df_spam_data['text']\n",
    "y = df_spam_data['target']\n",
    "\n",
    "X_train, X_test, y_train, y_test = train_test_split(X, y, random_state=0)"
   ]
  },
  {
   "cell_type": "markdown",
   "metadata": {},
   "source": [
    "## Fit a Count Vectorizer using the training data\n",
    "\n",
    "What is the longest token in the vocabulary?"
   ]
  },
  {
   "cell_type": "code",
   "execution_count": 5,
   "metadata": {},
   "outputs": [
    {
     "data": {
      "text/html": [
       "<div>\n",
       "<style scoped>\n",
       "    .dataframe tbody tr th:only-of-type {\n",
       "        vertical-align: middle;\n",
       "    }\n",
       "\n",
       "    .dataframe tbody tr th {\n",
       "        vertical-align: top;\n",
       "    }\n",
       "\n",
       "    .dataframe thead th {\n",
       "        text-align: right;\n",
       "    }\n",
       "</style>\n",
       "<table border=\"1\" class=\"dataframe\">\n",
       "  <thead>\n",
       "    <tr style=\"text-align: right;\">\n",
       "      <th></th>\n",
       "      <th>token</th>\n",
       "      <th>lenght</th>\n",
       "    </tr>\n",
       "  </thead>\n",
       "  <tbody>\n",
       "    <tr>\n",
       "      <th>0</th>\n",
       "      <td>com1win150ppmx3age16subscription</td>\n",
       "      <td>32</td>\n",
       "    </tr>\n",
       "    <tr>\n",
       "      <th>1</th>\n",
       "      <td>minmoremobsemspobox45po139wa</td>\n",
       "      <td>28</td>\n",
       "    </tr>\n",
       "    <tr>\n",
       "      <th>2</th>\n",
       "      <td>50pmmorefrommobile2bremoved</td>\n",
       "      <td>27</td>\n",
       "    </tr>\n",
       "    <tr>\n",
       "      <th>3</th>\n",
       "      <td>minmobsmorelkpobox177hp51fl</td>\n",
       "      <td>27</td>\n",
       "    </tr>\n",
       "    <tr>\n",
       "      <th>4</th>\n",
       "      <td>callcost150ppmmobilesvary</td>\n",
       "      <td>25</td>\n",
       "    </tr>\n",
       "    <tr>\n",
       "      <th>5</th>\n",
       "      <td>150ppmpobox10183bhamb64xe</td>\n",
       "      <td>25</td>\n",
       "    </tr>\n",
       "    <tr>\n",
       "      <th>6</th>\n",
       "      <td>150ppermesssubscription</td>\n",
       "      <td>23</td>\n",
       "    </tr>\n",
       "    <tr>\n",
       "      <th>7</th>\n",
       "      <td>datebox1282essexcm61xn</td>\n",
       "      <td>22</td>\n",
       "    </tr>\n",
       "    <tr>\n",
       "      <th>8</th>\n",
       "      <td>tscs087147403231winawk</td>\n",
       "      <td>22</td>\n",
       "    </tr>\n",
       "    <tr>\n",
       "      <th>9</th>\n",
       "      <td>boughtåóbraindanceåóa</td>\n",
       "      <td>21</td>\n",
       "    </tr>\n",
       "  </tbody>\n",
       "</table>\n",
       "</div>"
      ],
      "text/plain": [
       "                              token  lenght\n",
       "0  com1win150ppmx3age16subscription      32\n",
       "1      minmoremobsemspobox45po139wa      28\n",
       "2       50pmmorefrommobile2bremoved      27\n",
       "3       minmobsmorelkpobox177hp51fl      27\n",
       "4         callcost150ppmmobilesvary      25\n",
       "5         150ppmpobox10183bhamb64xe      25\n",
       "6           150ppermesssubscription      23\n",
       "7            datebox1282essexcm61xn      22\n",
       "8            tscs087147403231winawk      22\n",
       "9             boughtåóbraindanceåóa      21"
      ]
     },
     "execution_count": 5,
     "metadata": {},
     "output_type": "execute_result"
    }
   ],
   "source": [
    "count_vectorizer = CountVectorizer().fit(X_train)\n",
    "tokens = [(token, len(token)) for token in count_vectorizer.vocabulary_.keys()]\n",
    "pd.DataFrame(sorted(tokens, key=lambda item: item[1], reverse=True)[:10], columns=[\"token\", \"lenght\"])"
   ]
  },
  {
   "cell_type": "markdown",
   "metadata": {},
   "source": [
    "## Fit a multinomial Naive Bayes classifier\n",
    "\n",
    "- Transform the datasets using the Count Vectorizer.\n",
    "- Find the Area Under the Receiver Operating Characteristic Curve (ROC AUC) using the transformed test datasets."
   ]
  },
  {
   "cell_type": "code",
   "execution_count": 6,
   "metadata": {},
   "outputs": [],
   "source": [
    "X_train_vectorized = count_vectorizer.transform(X_train)\n",
    "X_test_vectorized = count_vectorizer.transform(X_test)\n",
    "\n",
    "multinomialNB_classifier = MultinomialNB(alpha=0.1).fit(X_train_vectorized, y_train)"
   ]
  },
  {
   "cell_type": "code",
   "execution_count": 7,
   "metadata": {},
   "outputs": [
    {
     "name": "stdout",
     "output_type": "stream",
     "text": [
      "              precision    recall  f1-score   support\n",
      "\n",
      "           0     0.9909    1.0000    0.9954      1196\n",
      "           1     1.0000    0.9442    0.9713       197\n",
      "\n",
      "    accuracy                         0.9921      1393\n",
      "   macro avg     0.9954    0.9721    0.9834      1393\n",
      "weighted avg     0.9922    0.9921    0.9920      1393\n",
      "\n",
      "Area Under the Receiver Operating Characteristic Curve (ROC AUC) = 0.9721\n"
     ]
    }
   ],
   "source": [
    "y_pred = multinomialNB_classifier.predict(X_test_vectorized)\n",
    "roc_auc = roc_auc_score(y_test, y_pred)\n",
    "\n",
    "print(classification_report(y_test, y_pred, digits=4))\n",
    "print(\"Area Under the Receiver Operating Characteristic Curve (ROC AUC) = {:.4f}\".format(roc_auc))"
   ]
  },
  {
   "cell_type": "code",
   "execution_count": 8,
   "metadata": {},
   "outputs": [
    {
     "data": {
      "image/png": "[encoded data removed]",
      "text/plain": [
       "<Figure size 640x480 with 2 Axes>"
      ]
     },
     "metadata": {},
     "output_type": "display_data"
    }
   ],
   "source": [
    "ConfusionMatrixDisplay.from_predictions(y_test, y_pred, display_labels=[\"0 (Not Spam)\", \"1 (Spam)\"])\n",
    "plt.show()"
   ]
  },
  {
   "cell_type": "markdown",
   "metadata": {},
   "source": [
    "## Fit a TF-IDF Vectorizer using the training data\n",
    "\n",
    "What 10 features have the smallest TF-IDF ([Term Frequency–Inverse Document Frequency](https://en.wikipedia.org/wiki/Tf%E2%80%93idf)) and what 10 have the largest TF-IDF?"
   ]
  },
  {
   "cell_type": "code",
   "execution_count": 9,
   "metadata": {},
   "outputs": [],
   "source": [
    "tfidf_vectorizer = TfidfVectorizer().fit(X_train)\n",
    "feature_names_idfs = list(zip(tfidf_vectorizer.get_feature_names_out(), tfidf_vectorizer.idf_))\n",
    "smallest_idfs = sorted(feature_names_idfs, key=lambda item: item[1])[:10]\n",
    "largest_idfs = sorted(feature_names_idfs, key=lambda item: item[1], reverse=True)[:10]"
   ]
  },
  {
   "cell_type": "code",
   "execution_count": 10,
   "metadata": {},
   "outputs": [
    {
     "name": "stdout",
     "output_type": "stream",
     "text": [
      "Smallest TF-IDF:\n"
     ]
    },
    {
     "data": {
      "text/html": [
       "<div>\n",
       "<style scoped>\n",
       "    .dataframe tbody tr th:only-of-type {\n",
       "        vertical-align: middle;\n",
       "    }\n",
       "\n",
       "    .dataframe tbody tr th {\n",
       "        vertical-align: top;\n",
       "    }\n",
       "\n",
       "    .dataframe thead th {\n",
       "        text-align: right;\n",
       "    }\n",
       "</style>\n",
       "<table border=\"1\" class=\"dataframe\">\n",
       "  <thead>\n",
       "    <tr style=\"text-align: right;\">\n",
       "      <th></th>\n",
       "      <th>IDF</th>\n",
       "    </tr>\n",
       "    <tr>\n",
       "      <th>Token</th>\n",
       "      <th></th>\n",
       "    </tr>\n",
       "  </thead>\n",
       "  <tbody>\n",
       "    <tr>\n",
       "      <th>to</th>\n",
       "      <td>2.198406</td>\n",
       "    </tr>\n",
       "    <tr>\n",
       "      <th>you</th>\n",
       "      <td>2.265645</td>\n",
       "    </tr>\n",
       "    <tr>\n",
       "      <th>the</th>\n",
       "      <td>2.707383</td>\n",
       "    </tr>\n",
       "    <tr>\n",
       "      <th>in</th>\n",
       "      <td>2.890761</td>\n",
       "    </tr>\n",
       "    <tr>\n",
       "      <th>and</th>\n",
       "      <td>2.976764</td>\n",
       "    </tr>\n",
       "    <tr>\n",
       "      <th>is</th>\n",
       "      <td>3.003012</td>\n",
       "    </tr>\n",
       "    <tr>\n",
       "      <th>me</th>\n",
       "      <td>3.111530</td>\n",
       "    </tr>\n",
       "    <tr>\n",
       "      <th>for</th>\n",
       "      <td>3.206840</td>\n",
       "    </tr>\n",
       "    <tr>\n",
       "      <th>it</th>\n",
       "      <td>3.222174</td>\n",
       "    </tr>\n",
       "    <tr>\n",
       "      <th>my</th>\n",
       "      <td>3.231044</td>\n",
       "    </tr>\n",
       "  </tbody>\n",
       "</table>\n",
       "</div>"
      ],
      "text/plain": [
       "            IDF\n",
       "Token          \n",
       "to     2.198406\n",
       "you    2.265645\n",
       "the    2.707383\n",
       "in     2.890761\n",
       "and    2.976764\n",
       "is     3.003012\n",
       "me     3.111530\n",
       "for    3.206840\n",
       "it     3.222174\n",
       "my     3.231044"
      ]
     },
     "execution_count": 10,
     "metadata": {},
     "output_type": "execute_result"
    }
   ],
   "source": [
    "print(\"Smallest TF-IDF:\")\n",
    "pd.DataFrame(smallest_idfs, columns=[\"Token\", \"IDF\"]).set_index(\"Token\")"
   ]
  },
  {
   "cell_type": "code",
   "execution_count": 11,
   "metadata": {},
   "outputs": [
    {
     "name": "stdout",
     "output_type": "stream",
     "text": [
      "Largest TF-IDF:\n"
     ]
    },
    {
     "data": {
      "text/html": [
       "<div>\n",
       "<style scoped>\n",
       "    .dataframe tbody tr th:only-of-type {\n",
       "        vertical-align: middle;\n",
       "    }\n",
       "\n",
       "    .dataframe tbody tr th {\n",
       "        vertical-align: top;\n",
       "    }\n",
       "\n",
       "    .dataframe thead th {\n",
       "        text-align: right;\n",
       "    }\n",
       "</style>\n",
       "<table border=\"1\" class=\"dataframe\">\n",
       "  <thead>\n",
       "    <tr style=\"text-align: right;\">\n",
       "      <th></th>\n",
       "      <th>IDF</th>\n",
       "    </tr>\n",
       "    <tr>\n",
       "      <th>Token</th>\n",
       "      <th></th>\n",
       "    </tr>\n",
       "  </thead>\n",
       "  <tbody>\n",
       "    <tr>\n",
       "      <th>000pes</th>\n",
       "      <td>8.644919</td>\n",
       "    </tr>\n",
       "    <tr>\n",
       "      <th>0089</th>\n",
       "      <td>8.644919</td>\n",
       "    </tr>\n",
       "    <tr>\n",
       "      <th>0121</th>\n",
       "      <td>8.644919</td>\n",
       "    </tr>\n",
       "    <tr>\n",
       "      <th>01223585236</th>\n",
       "      <td>8.644919</td>\n",
       "    </tr>\n",
       "    <tr>\n",
       "      <th>0125698789</th>\n",
       "      <td>8.644919</td>\n",
       "    </tr>\n",
       "    <tr>\n",
       "      <th>02072069400</th>\n",
       "      <td>8.644919</td>\n",
       "    </tr>\n",
       "    <tr>\n",
       "      <th>02073162414</th>\n",
       "      <td>8.644919</td>\n",
       "    </tr>\n",
       "    <tr>\n",
       "      <th>02085076972</th>\n",
       "      <td>8.644919</td>\n",
       "    </tr>\n",
       "    <tr>\n",
       "      <th>021</th>\n",
       "      <td>8.644919</td>\n",
       "    </tr>\n",
       "    <tr>\n",
       "      <th>0430</th>\n",
       "      <td>8.644919</td>\n",
       "    </tr>\n",
       "  </tbody>\n",
       "</table>\n",
       "</div>"
      ],
      "text/plain": [
       "                  IDF\n",
       "Token                \n",
       "000pes       8.644919\n",
       "0089         8.644919\n",
       "0121         8.644919\n",
       "01223585236  8.644919\n",
       "0125698789   8.644919\n",
       "02072069400  8.644919\n",
       "02073162414  8.644919\n",
       "02085076972  8.644919\n",
       "021          8.644919\n",
       "0430         8.644919"
      ]
     },
     "execution_count": 11,
     "metadata": {},
     "output_type": "execute_result"
    }
   ],
   "source": [
    "print(\"Largest TF-IDF:\")\n",
    "pd.DataFrame(largest_idfs, columns=[\"Token\", \"IDF\"]).set_index(\"Token\")"
   ]
  },
  {
   "cell_type": "markdown",
   "metadata": {},
   "source": [
    "## Fit a multinomial Naive Bayes classifier\n",
    "\n",
    "- Transform the datasets using the TF-IDF Vectorizer.\n",
    "- Ignore terms that have a document frequency lower than 3."
   ]
  },
  {
   "cell_type": "code",
   "execution_count": 12,
   "metadata": {},
   "outputs": [],
   "source": [
    "tfidf_vectorizer = TfidfVectorizer(min_df=3).fit(X_train)\n",
    "X_train_vectorized = tfidf_vectorizer.transform(X_train)\n",
    "X_test_vectorized = tfidf_vectorizer.transform(X_test)\n",
    "\n",
    "multinomialNB_classifier = MultinomialNB(alpha=0.1).fit(X_train_vectorized, y_train)"
   ]
  },
  {
   "cell_type": "code",
   "execution_count": 13,
   "metadata": {},
   "outputs": [
    {
     "name": "stdout",
     "output_type": "stream",
     "text": [
      "              precision    recall  f1-score   support\n",
      "\n",
      "           0     0.9811    1.0000    0.9905      1196\n",
      "           1     1.0000    0.8832    0.9380       197\n",
      "\n",
      "    accuracy                         0.9835      1393\n",
      "   macro avg     0.9906    0.9416    0.9642      1393\n",
      "weighted avg     0.9838    0.9835    0.9831      1393\n",
      "\n",
      "Area Under the Receiver Operating Characteristic Curve (ROC AUC) = 0.9416\n"
     ]
    }
   ],
   "source": [
    "y_pred = multinomialNB_classifier.predict(X_test_vectorized)\n",
    "roc_auc = roc_auc_score(y_test, y_pred)\n",
    "\n",
    "print(classification_report(y_test, y_pred, digits=4))\n",
    "print(\"Area Under the Receiver Operating Characteristic Curve (ROC AUC) = {:.4f}\".format(roc_auc))"
   ]
  },
  {
   "cell_type": "code",
   "execution_count": 14,
   "metadata": {},
   "outputs": [
    {
     "data": {
      "image/png": "[encoded data removed]",
      "text/plain": [
       "<Figure size 640x480 with 2 Axes>"
      ]
     },
     "metadata": {},
     "output_type": "display_data"
    }
   ],
   "source": [
    "ConfusionMatrixDisplay.from_predictions(y_test, y_pred, display_labels=[\"0 (Not Spam)\", \"1 (Spam)\"])\n",
    "plt.show()"
   ]
  },
  {
   "cell_type": "markdown",
   "metadata": {},
   "source": [
    "## Get the average number of characters for not spam and spam documents"
   ]
  },
  {
   "cell_type": "code",
   "execution_count": 15,
   "metadata": {},
   "outputs": [
    {
     "name": "stdout",
     "output_type": "stream",
     "text": [
      "Average length of spam documents: 138.87\n",
      "Average length of not spam documents: 71.02\n"
     ]
    }
   ],
   "source": [
    "df_spam_data['length'] = df_spam_data['text'].apply(lambda txt: len(txt))\n",
    "not_spam_mean_length = np.mean(df_spam_data[df_spam_data['target'] == 0]['length'])\n",
    "spam_mean_length = np.mean(df_spam_data[df_spam_data['target'] == 1]['length'])\n",
    "\n",
    "print(\"Average length of spam documents: {:.2f}\".format(spam_mean_length))\n",
    "print(\"Average length of not spam documents: {:.2f}\".format(not_spam_mean_length))"
   ]
  },
  {
   "cell_type": "markdown",
   "metadata": {},
   "source": [
    "## Create a function to combine new features into the datasets"
   ]
  },
  {
   "cell_type": "code",
   "execution_count": 16,
   "metadata": {},
   "outputs": [],
   "source": [
    "def add_feature(X, feature_to_add):\n",
    "    \"\"\"\n",
    "    Returns sparse feature matrix with added feature.\n",
    "    feature_to_add can also be a list of features.\n",
    "    \"\"\"\n",
    "    return hstack([X, csr_matrix(feature_to_add).T], 'csr')"
   ]
  },
  {
   "cell_type": "markdown",
   "metadata": {},
   "source": [
    "## Fit a Support Vector Classifier (SVC)\n",
    "\n",
    "- Transform the datasets using the TF-IDF Vectorizer.\n",
    "- Ignore terms that have a document frequency lower than 5.\n",
    "- Use the number of characters as an additional feature."
   ]
  },
  {
   "cell_type": "code",
   "execution_count": 17,
   "metadata": {},
   "outputs": [],
   "source": [
    "tfidf_vectorizer = TfidfVectorizer(min_df=5).fit(X_train)\n",
    "X_train_vectorized = tfidf_vectorizer.transform(X_train)\n",
    "X_train_vectorized = add_feature(X_train_vectorized, X_train.str.len())\n",
    "X_test_vectorized = tfidf_vectorizer.transform(X_test)\n",
    "X_test_vectorized = add_feature(X_test_vectorized, X_test.str.len())\n",
    "\n",
    "svc = SVC(C=10000).fit(X_train_vectorized, y_train)"
   ]
  },
  {
   "cell_type": "code",
   "execution_count": 18,
   "metadata": {},
   "outputs": [
    {
     "name": "stdout",
     "output_type": "stream",
     "text": [
      "              precision    recall  f1-score   support\n",
      "\n",
      "           0     0.9892    0.9983    0.9938      1196\n",
      "           1     0.9892    0.9340    0.9608       197\n",
      "\n",
      "    accuracy                         0.9892      1393\n",
      "   macro avg     0.9892    0.9662    0.9773      1393\n",
      "weighted avg     0.9892    0.9892    0.9891      1393\n",
      "\n",
      "Area Under the Receiver Operating Characteristic Curve (ROC AUC) = 0.9662\n"
     ]
    }
   ],
   "source": [
    "y_pred = svc.predict(X_test_vectorized)\n",
    "roc_auc = roc_auc_score(y_test, y_pred)\n",
    "\n",
    "print(classification_report(y_test, y_pred, digits=4))\n",
    "print(\"Area Under the Receiver Operating Characteristic Curve (ROC AUC) = {:.4f}\".format(roc_auc))"
   ]
  },
  {
   "cell_type": "code",
   "execution_count": 19,
   "metadata": {},
   "outputs": [
    {
     "data": {
      "image/png": "[encoded data removed]",
      "text/plain": [
       "<Figure size 640x480 with 2 Axes>"
      ]
     },
     "metadata": {},
     "output_type": "display_data"
    }
   ],
   "source": [
    "ConfusionMatrixDisplay.from_predictions(y_test, y_pred, display_labels=[\"0 (Not Spam)\", \"1 (Spam)\"])\n",
    "plt.show()"
   ]
  },
  {
   "cell_type": "markdown",
   "metadata": {},
   "source": [
    "## Get the average number of digits for not spam and spam documents"
   ]
  },
  {
   "cell_type": "code",
   "execution_count": 20,
   "metadata": {},
   "outputs": [
    {
     "name": "stdout",
     "output_type": "stream",
     "text": [
      "Average number of digits in spam documents: 15.76\n",
      "Average number of digits in not spam documents: 0.30\n"
     ]
    }
   ],
   "source": [
    "df_spam_data['digits'] = df_spam_data['text'].apply(lambda txt: len([char for char in txt if char.isdigit()]))\n",
    "not_spam_mean_digits = np.mean(df_spam_data[df_spam_data['target'] == 0]['digits'])\n",
    "spam_mean_digits = np.mean(df_spam_data[df_spam_data['target'] == 1]['digits'])\n",
    "\n",
    "print(\"Average number of digits in spam documents: {:.2f}\".format(spam_mean_digits))\n",
    "print(\"Average number of digits in not spam documents: {:.2f}\".format(not_spam_mean_digits))"
   ]
  },
  {
   "cell_type": "markdown",
   "metadata": {},
   "source": [
    "## Fit a Logistic Regression Classifier\n",
    "\n",
    "- Transform the datasets using the TF-IDF Vectorizer.\n",
    "- Ignore terms that have a document frequency lower than 5.\n",
    "- Use word n-grams from n = 1 to n = 3 (unigrams, bigrams, and trigrams).\n",
    "- Use the number of characters and digits as additional features."
   ]
  },
  {
   "cell_type": "code",
   "execution_count": 21,
   "metadata": {},
   "outputs": [],
   "source": [
    "tfidf_vectorizer = TfidfVectorizer(min_df=5, ngram_range=(1, 3)).fit(X_train)\n",
    "X_train_vectorized = tfidf_vectorizer.transform(X_train)\n",
    "X_train_vectorized = add_feature(X_train_vectorized, [X_train.str.len(), X_train.str.findall(r'\\d').str.len()])\n",
    "X_test_vectorized = tfidf_vectorizer.transform(X_test)\n",
    "X_test_vectorized = add_feature(X_test_vectorized, [X_test.str.len(), X_test.str.findall(r'\\d').str.len()])\n",
    "\n",
    "logistic_regression_classifier = LogisticRegression(C=100, max_iter=1000).fit(X_train_vectorized, y_train)"
   ]
  },
  {
   "cell_type": "code",
   "execution_count": 22,
   "metadata": {},
   "outputs": [
    {
     "name": "stdout",
     "output_type": "stream",
     "text": [
      "              precision    recall  f1-score   support\n",
      "\n",
      "           0     0.9900    0.9967    0.9933      1196\n",
      "           1     0.9788    0.9391    0.9585       197\n",
      "\n",
      "    accuracy                         0.9885      1393\n",
      "   macro avg     0.9844    0.9679    0.9759      1393\n",
      "weighted avg     0.9884    0.9885    0.9884      1393\n",
      "\n",
      "Area Under the Receiver Operating Characteristic Curve (ROC AUC) = 0.9679\n"
     ]
    }
   ],
   "source": [
    "y_pred = logistic_regression_classifier.predict(X_test_vectorized)\n",
    "roc_auc = roc_auc_score(y_test, y_pred)\n",
    "\n",
    "print(classification_report(y_test, y_pred, digits=4))\n",
    "print(\"Area Under the Receiver Operating Characteristic Curve (ROC AUC) = {:.4f}\".format(roc_auc))"
   ]
  },
  {
   "cell_type": "code",
   "execution_count": 23,
   "metadata": {},
   "outputs": [
    {
     "data": {
      "image/png": "[encoded data removed]",
      "text/plain": [
       "<Figure size 640x480 with 2 Axes>"
      ]
     },
     "metadata": {},
     "output_type": "display_data"
    }
   ],
   "source": [
    "ConfusionMatrixDisplay.from_predictions(y_test, y_pred, display_labels=[\"0 (Not Spam)\", \"1 (Spam)\"])\n",
    "plt.show()"
   ]
  },
  {
   "cell_type": "markdown",
   "metadata": {},
   "source": [
    "## Get the average number non-word characters for not spam and spam documents"
   ]
  },
  {
   "cell_type": "code",
   "execution_count": 24,
   "metadata": {},
   "outputs": [
    {
     "name": "stdout",
     "output_type": "stream",
     "text": [
      "Average number of non_word in spam documents: 29.04\n",
      "Average number of non_word in not spam documents: 17.29\n"
     ]
    }
   ],
   "source": [
    "df_spam_data['non_word'] = df_spam_data['text'].str.findall(r'\\W').str.len()\n",
    "not_spam_mean_non_word = np.mean(df_spam_data[df_spam_data['target'] == 0]['non_word'])\n",
    "spam_mean_non_word = np.mean(df_spam_data[df_spam_data['target'] == 1]['non_word'])\n",
    "\n",
    "print(\"Average number of non_word in spam documents: {:.2f}\".format(spam_mean_non_word))\n",
    "print(\"Average number of non_word in not spam documents: {:.2f}\".format(not_spam_mean_non_word))"
   ]
  },
  {
   "cell_type": "markdown",
   "metadata": {},
   "source": [
    "## Fit a Logistic Regression Classifier\n",
    "\n",
    "- Transform the datasets using the Count Vectorizer.\n",
    "- Ignore terms that have a document frequency lower than 5.\n",
    "- Use word n-grams from n = 2 to n = 5.\n",
    "- Use the number of characters, digits and non-words as additional features."
   ]
  },
  {
   "cell_type": "code",
   "execution_count": 25,
   "metadata": {},
   "outputs": [],
   "source": [
    "count_vectorizer = CountVectorizer(min_df=5, ngram_range=(2, 5), analyzer='char_wb').fit(X_train)\n",
    "X_train_vectorized = count_vectorizer.transform(X_train)\n",
    "X_train_vectorized = add_feature(X_train_vectorized, [X_train.str.len(), X_train.str.findall(r'\\d').str.len(), X_train.str.findall(r'\\W').str.len()])\n",
    "X_test_vectorized = count_vectorizer.transform(X_test)\n",
    "X_test_vectorized = add_feature(X_test_vectorized, [X_test.str.len(), X_test.str.findall(r'\\d').str.len(), X_test.str.findall(r'\\W').str.len()])\n",
    "\n",
    "logistic_regression_classifier = LogisticRegression(C=100, max_iter=1000).fit(X_train_vectorized, y_train)"
   ]
  },
  {
   "cell_type": "code",
   "execution_count": 26,
   "metadata": {},
   "outputs": [
    {
     "name": "stdout",
     "output_type": "stream",
     "text": [
      "              precision    recall  f1-score   support\n",
      "\n",
      "           0     0.9942    0.9967    0.9954      1196\n",
      "           1     0.9794    0.9645    0.9719       197\n",
      "\n",
      "    accuracy                         0.9921      1393\n",
      "   macro avg     0.9868    0.9806    0.9836      1393\n",
      "weighted avg     0.9921    0.9921    0.9921      1393\n",
      "\n",
      "Area Under the Receiver Operating Characteristic Curve (ROC AUC) = 0.9806\n"
     ]
    }
   ],
   "source": [
    "y_pred = logistic_regression_classifier.predict(X_test_vectorized)\n",
    "roc_auc = roc_auc_score(y_test, y_pred)\n",
    "\n",
    "print(classification_report(y_test, y_pred, digits=4))\n",
    "print(\"Area Under the Receiver Operating Characteristic Curve (ROC AUC) = {:.4f}\".format(roc_auc))"
   ]
  },
  {
   "cell_type": "code",
   "execution_count": 27,
   "metadata": {},
   "outputs": [
    {
     "data": {
      "image/png": "[encoded data removed]",
      "text/plain": [
       "<Figure size 640x480 with 2 Axes>"
      ]
     },
     "metadata": {},
     "output_type": "display_data"
    }
   ],
   "source": [
    "ConfusionMatrixDisplay.from_predictions(y_test, y_pred, display_labels=[\"0 (Not Spam)\", \"1 (Spam)\"])\n",
    "plt.show()"
   ]
  }
 ],
 "metadata": {
  "kernelspec": {
   "display_name": "ADS-env",
   "language": "python",
   "name": "python3"
  },
  "language_info": {
   "codemirror_mode": {
    "name": "ipython",
    "version": 3
   },
   "file_extension": ".py",
   "mimetype": "text/x-python",
   "name": "python",
   "nbconvert_exporter": "python",
   "pygments_lexer": "ipython3",
   "version": "3.12.3"
  }
 },
 "nbformat": 4,
 "nbformat_minor": 2
}
